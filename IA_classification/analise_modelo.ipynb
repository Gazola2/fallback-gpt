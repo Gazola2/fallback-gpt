{
 "cells": [
  {
   "cell_type": "code",
   "execution_count": 13,
   "metadata": {},
   "outputs": [],
   "source": [
    "import matplotlib.pyplot as plt\n",
    "from sklearn.metrics import roc_curve, precision_recall_curve\n",
    "from sklearn.preprocessing import label_binarize\n",
    "import pickle\n",
    "import pandas as pd\n",
    "import numpy as np\n",
    "from keras.preprocessing.text import Tokenizer\n",
    "from sklearn.preprocessing import LabelEncoder\n",
    "from tensorflow.keras.preprocessing.sequence import pad_sequences\n",
    "from keras.utils import to_categorical\n",
    "from sklearn.model_selection import train_test_split\n",
    "import seaborn as sns\n",
    "from sklearn.metrics import confusion_matrix"
   ]
  },
  {
   "cell_type": "code",
   "execution_count": 2,
   "metadata": {},
   "outputs": [
    {
     "name": "stdout",
     "output_type": "stream",
     "text": [
      "Keras model archive loading:\n",
      "File Name                                             Modified             Size\n",
      "config.json                                    2023-05-23 21:28:44         4213\n",
      "metadata.json                                  2023-05-23 21:28:44           64\n",
      "variables.h5                                   2023-05-23 21:28:44      4721480\n",
      "Keras weights file (<HDF5 file \"variables.h5\" (mode r)>) loading:\n",
      "...layers\n",
      "......conv1d\n",
      ".........vars\n",
      "............0\n",
      "............1\n",
      "......conv1d_1\n",
      ".........vars\n",
      "............0\n",
      "............1\n",
      "......conv1d_2\n",
      ".........vars\n",
      "............0\n",
      "............1\n",
      "......dense\n",
      ".........vars\n",
      "............0\n",
      "............1\n",
      "......dropout\n",
      ".........vars\n",
      "......dropout_1\n",
      ".........vars\n",
      "......dropout_2\n",
      ".........vars\n",
      "......embedding\n",
      ".........vars\n",
      "............0\n",
      "......flatten\n",
      ".........vars\n",
      "......max_pooling1d\n",
      ".........vars\n",
      "......max_pooling1d_1\n",
      ".........vars\n",
      "......max_pooling1d_2\n",
      ".........vars\n",
      "...metrics\n",
      "......mean\n",
      ".........vars\n",
      "............0\n",
      "............1\n",
      "......mean_metric_wrapper\n",
      ".........vars\n",
      "............0\n",
      "............1\n",
      "...optimizer\n",
      "......vars\n",
      ".........0\n",
      ".........1\n",
      ".........2\n",
      ".........3\n",
      ".........4\n",
      ".........5\n",
      ".........6\n",
      ".........7\n",
      ".........8\n",
      ".........9\n",
      "...vars\n",
      "Keras model archive loading:\n",
      "File Name                                             Modified             Size\n",
      "config.json                                    2023-05-23 22:22:38         2224\n",
      "metadata.json                                  2023-05-23 22:22:38           64\n",
      "variables.h5                                   2023-05-23 22:22:38     41011560\n",
      "Keras weights file (<HDF5 file \"variables.h5\" (mode r)>) loading:\n",
      "...layers\n",
      "......dense\n",
      ".........vars\n",
      "............0\n",
      "............1\n",
      "......embedding\n",
      ".........vars\n",
      "............0\n",
      "......lstm\n",
      ".........cell\n",
      "............vars\n",
      "...............0\n",
      "...............1\n",
      "...............2\n",
      ".........vars\n",
      "...metrics\n",
      "......mean\n",
      ".........vars\n",
      "............0\n",
      "............1\n",
      "......mean_metric_wrapper\n",
      ".........vars\n",
      "............0\n",
      "............1\n",
      "...optimizer\n",
      "......vars\n",
      ".........0\n",
      ".........1\n",
      ".........10\n",
      ".........11\n",
      ".........12\n",
      ".........2\n",
      ".........3\n",
      ".........4\n",
      ".........5\n",
      ".........6\n",
      ".........7\n",
      ".........8\n",
      ".........9\n",
      "...vars\n"
     ]
    }
   ],
   "source": [
    "with open('../saved_models/model.pkl', 'rb') as f:\n",
    "            model = pickle.load(f)\n",
    "\n",
    "with open('../saved_models/model_lstm.pkl', 'rb') as f:\n",
    "            model_lstm = pickle.load(f)"
   ]
  },
  {
   "cell_type": "code",
   "execution_count": 14,
   "metadata": {},
   "outputs": [],
   "source": [
    "df = pd.read_csv('articles.csv')\n",
    "texts = df['title'].tolist()\n",
    "labels = df['category'].tolist()\n",
    "max_words = 10000\n",
    "\n",
    "tokenizer = Tokenizer(num_words=max_words)\n",
    "tokenizer.fit_on_texts(texts)\n",
    "sequences = tokenizer.texts_to_sequences(texts)\n",
    "with open('../saved_tokenizer/tokenizer.json', 'wb') as f:\n",
    "    pickle.dump(tokenizer, f)\n",
    "\n",
    "max_length = 250\n",
    "data = pad_sequences(sequences, maxlen=max_length)\n",
    "\n",
    "le = LabelEncoder()\n",
    "labels_encoded = le.fit_transform(labels)\n",
    "labels_onehot = to_categorical(labels_encoded, num_classes=48)\n",
    "\n",
    "label_names = le.classes_"
   ]
  },
  {
   "cell_type": "code",
   "execution_count": 17,
   "metadata": {},
   "outputs": [
    {
     "name": "stdout",
     "output_type": "stream",
     "text": [
      "1045/1045 [==============================] - 4s 3ms/step\n",
      "1045/1045 [==============================] - 4s 4ms/step\n",
      "1045/1045 [==============================] - 42s 40ms/step\n"
     ]
    }
   ],
   "source": [
    "# Classes de teste do CNN\n",
    "X_train, X_test, y_train, y_test = train_test_split(data, labels_onehot, test_size=0.2, random_state=42)\n",
    "X_train, X_val, y_train, y_val = train_test_split(X_train, y_train, test_size=0.2, random_state=42)\n",
    "\n",
    "y_prob = model.predict(X_test)\n",
    "y_pred_modelo1 = model.predict(X_test)\n",
    "y_pred_modelo2 = model_lstm.predict(X_test)\n",
    "num_classes = 48"
   ]
  },
  {
   "cell_type": "code",
   "execution_count": 22,
   "metadata": {},
   "outputs": [
    {
     "name": "stdout",
     "output_type": "stream",
     "text": [
      "Índice de Jaccard - Modelo 1: 0.5049235281793422\n",
      "Índice de Jaccard - Modelo 2: 0.6746879770135584\n",
      "F1-score - Modelo 1: 0.5049235281793422\n",
      "F1-score - Modelo 2: 0.6746879770135584\n"
     ]
    }
   ],
   "source": [
    "from sklearn.metrics import jaccard_score, f1_score\n",
    "\n",
    "# Converter as previsões em rótulos preditos binarizados\n",
    "y_pred_modelo1_bin = (y_pred_modelo1 > 0.5).astype(int)\n",
    "y_pred_modelo2_bin = (y_pred_modelo2 > 0.5).astype(int)\n",
    "\n",
    "# Calcular o índice de similaridade de Jaccard para cada modelo\n",
    "jaccard_modelo1 = jaccard_score(y_test, y_pred_modelo1_bin, average='samples')\n",
    "jaccard_modelo2 = jaccard_score(y_test, y_pred_modelo2_bin, average='samples')\n",
    "\n",
    "# Calcular o F1-score para cada modelo\n",
    "f1_score_modelo1 = f1_score(y_test, y_pred_modelo1_bin, average='samples')\n",
    "f1_score_modelo2 = f1_score(y_test, y_pred_modelo2_bin, average='samples')\n",
    "\n",
    "print('Índice de Jaccard - Modelo 1:', jaccard_modelo1)\n",
    "print('Índice de Jaccard - Modelo 2:', jaccard_modelo2)\n",
    "print('F1-score - Modelo 1:', f1_score_modelo1)\n",
    "print('F1-score - Modelo 2:', f1_score_modelo2)"
   ]
  },
  {
   "attachments": {},
   "cell_type": "markdown",
   "metadata": {},
   "source": [
    "O coeficiente de Jaccard, também conhecido como Índice de Similaridade de Jaccard ou Jaccard Score, é uma métrica usada para medir a similaridade entre dois conjuntos. No contexto da classificação multiclasse, o coeficiente de Jaccard é calculado como a interseção entre os conjuntos de rótulos verdadeiros e rótulos previstos dividida pela união desses conjuntos. Em outras palavras, ele mede a sobreposição entre os rótulos verdadeiros e os rótulos previstos.\n",
    "\n",
    "O coeficiente de Jaccard varia de 0 a 1, onde 0 significa nenhuma sobreposição e 1 significa sobreposição perfeita. Portanto, quanto maior o valor do coeficiente de Jaccard, melhor é o desempenho do modelo em termos de correspondência entre os rótulos verdadeiros e os rótulos previstos."
   ]
  },
  {
   "cell_type": "code",
   "execution_count": 24,
   "metadata": {},
   "outputs": [
    {
     "data": {
      "image/png": "[encoded data removed]",
      "text/plain": [
       "<Figure size 576x432 with 1 Axes>"
      ]
     },
     "metadata": {
      "needs_background": "light"
     },
     "output_type": "display_data"
    },
    {
     "data": {
      "image/png": "[encoded data removed]",
      "text/plain": [
       "<Figure size 576x432 with 1 Axes>"
      ]
     },
     "metadata": {
      "needs_background": "light"
     },
     "output_type": "display_data"
    }
   ],
   "source": [
    "# Definir os nomes dos modelos\n",
    "nomes_modelos = ['CNN', 'LSTM']\n",
    "\n",
    "# Definir os valores de índice de Jaccard e F1-score para cada modelo\n",
    "jaccard_scores = [jaccard_modelo1, jaccard_modelo2]\n",
    "f1_scores = [f1_score_modelo1, f1_score_modelo2]\n",
    "\n",
    "# Plotar gráfico de barras para o índice de Jaccard\n",
    "plt.figure(figsize=(8, 6))\n",
    "plt.bar(nomes_modelos, jaccard_scores)\n",
    "plt.xlabel('Modelos')\n",
    "plt.ylabel('Índice de Jaccard')\n",
    "plt.title('Comparação de Índice de Jaccard entre Modelos')\n",
    "plt.show()\n",
    "\n",
    "# Plotar gráfico de barras para o F1-score\n",
    "plt.figure(figsize=(8, 6))\n",
    "plt.bar(nomes_modelos, f1_scores)\n",
    "plt.xlabel('Modelos')\n",
    "plt.ylabel('F1-score')\n",
    "plt.title('Comparação de F1-score entre Modelos')\n",
    "plt.show()"
   ]
  },
  {
   "attachments": {},
   "cell_type": "markdown",
   "metadata": {},
   "source": [
    "###Buscar outras metricas para comparaco entre os modelos###"
   ]
  }
 ],
 "metadata": {
  "kernelspec": {
   "display_name": "project",
   "language": "python",
   "name": "python3"
  },
  "language_info": {
   "codemirror_mode": {
    "name": "ipython",
    "version": 3
   },
   "file_extension": ".py",
   "mimetype": "text/x-python",
   "name": "python",
   "nbconvert_exporter": "python",
   "pygments_lexer": "ipython3",
   "version": "3.7.16"
  },
  "orig_nbformat": 4
 },
 "nbformat": 4,
 "nbformat_minor": 2
}
